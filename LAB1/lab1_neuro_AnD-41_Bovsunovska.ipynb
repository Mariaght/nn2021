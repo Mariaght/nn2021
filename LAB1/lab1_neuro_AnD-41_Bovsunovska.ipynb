{
 "cells": [
  {
   "cell_type": "markdown",
   "metadata": {},
   "source": [
    "# Лабораторна робота 1\n",
    "\n",
    "## Виконано студенкою групи АнД-41\n",
    "## Бовсуновською Марією\n",
    "\n",
    "## Завдання\n",
    "\n",
    "1. Налаштувати робоче оточення\n",
    "2. NumPy (створити набір даних (розмір за власним рішенням), провести CRUD операції над даними (скаляр, вектор, матриця)). Використати arange, random.\n",
    "3. Pandas (створити dataframe різними способами, провести маніпуляції з даними (head, describe, iloc, loc ...))\n",
    "4. Matplotlib (створити набір даних лінійної функції з урахуванням помилок вимірювань, побудувати графік функції та згенерованих даних, обчислити похибку з використанням метрик MAE, MSE). Записати отримані результати у csv файл (формат: X,Y, Y_hat, mAE, mSE)\n",
    "5. Sklearn (провести вирішення задачі регресії та класифікації)\n",
    "6. Tensorflow (створити набір даних (розмір за власним рішенням), провести CRUD операції над даними, reshape, інтеграцію з np.array, pd.DataFrame)\n",
    "7. Відповіді оформити .ipynb документами за кожним з попередніх пунктів\n",
    "8. Викласти у зазначений репозіторій GitHub в окремій папці з назвою Lab1 де мають бути .ipynb файл та необхідні файли з даними"
   ]
  },
  {
   "cell_type": "markdown",
   "metadata": {},
   "source": [
    "## Завдання 1\n",
    "\n",
    "Налаштувати робоче середовище. \n",
    "Перенаштувалася на роботу у Jupyter Notebook у VSCode. Раніше працювала із кожним середовищем, але окремо.\n",
    "Як завжди - година часу на те, щоб зрозуміти, чому бібліотеки не працюють, так, як працювали просто при відкритті Юпітера в браузері. У мене було встановлено окрім анаконди ще одне середовище із своїм набором бібліотек.  В правому верхньому кутку має бути вказано як середовище наведене нижче, щоб у ньому були необхідні бібліотеки.\n",
    "\n",
    "Python 3.7.4 64-bit ('base':conda)\n",
    "\n",
    "Окрім того було перекопано группа папок із дозволом адміністратора, що не дозволяв керувати версіями певних бібліотек.\n",
    "\n",
    "Також тут буду імпортувати усі необхідні бібліотеки, щоб не губити їх по коду."
   ]
  },
  {
   "cell_type": "code",
   "execution_count": 141,
   "metadata": {},
   "outputs": [],
   "source": [
    "import numpy as np\n",
    "import random as rd\n",
    "np.random.seed(0)\n",
    "rd.seed(0)\n",
    "\n",
    "from sklearn.datasets import load_iris\n",
    "raw_iris=load_iris()\n",
    "import pandas as pd\n",
    "\n",
    "import matplotlib.pyplot as plt\n",
    "import matplotlib as mpl\n",
    "%matplotlib inline\n",
    "import sklearn.metrics as metr\n",
    "from sklearn.linear_model import LinearRegression\n",
    "from sklearn.neighbors import KNeighborsClassifier\n",
    "\n",
    "import tensorflow as tf\n",
    "tf.random.set_seed(0)\n",
    "seed=0\n"
   ]
  },
  {
   "cell_type": "markdown",
   "metadata": {},
   "source": [
    "## Завдання 2\n",
    "\n",
    "NumPy (створити набір даних (розмір за власним рішенням), провести CRUD операції над даними (скаляр, вектор, матриця)). Використати arange, random."
   ]
  },
  {
   "cell_type": "code",
   "execution_count": 61,
   "metadata": {},
   "outputs": [
    {
     "name": "stdout",
     "output_type": "stream",
     "text": [
      "---Скаляр------------------------------------------------------------\n",
      "5 , isscalar:  True\n",
      "8\n",
      "nan\n",
      "---Вектор------------------------------------------------------------\n",
      "[1 2 3 4 5 6 7 8 9]\n",
      "[  1 110   3   4   5   6   7   8   9]\n",
      "[1 3 4 5 6 7 8 9]\n",
      "---Матриця------------------------------------------------------------\n",
      "[[6 1 4 4]\n",
      " [8 4 6 3]\n",
      " [5 8 7 9]]\n",
      "[[  6   1   4   4]\n",
      " [  8 112   6   3]\n",
      " [  5   8   7   9]]\n",
      "[[ 6.  1.  4.  4.]\n",
      " [ 8. nan  6.  3.]\n",
      " [ 5.  8.  7.  9.]]\n"
     ]
    }
   ],
   "source": [
    "print(\"---Скаляр------------------------------------------------------------\")\n",
    "z2A=5\n",
    "print(z2A, \", isscalar: \",np.isscalar(z2A))\n",
    "z2A+=3\n",
    "print(z2A)\n",
    "z2A=np.NaN\n",
    "print(z2A)\n",
    "# del z2A #Повністю видаляє змінну\n",
    "# print(z2A)\n",
    "\n",
    "print(\"---Вектор------------------------------------------------------------\")\n",
    "z2B=np.arange(1,10,1)\n",
    "print(z2B)\n",
    "z2B[1]+=108\n",
    "print(z2B)\n",
    "z2B=np.delete(z2B, 1)\n",
    "print(z2B)\n",
    "\n",
    "\n",
    "print(\"---Матриця------------------------------------------------------------\")\n",
    "z2C=np.random.randint(1, 10, (3, 4))\n",
    "print(z2C)\n",
    "z2C[1][1]+=108\n",
    "print(z2C)\n",
    "z2C=z2C.astype('float')\n",
    "z2C[1][1]=np.NaN\n",
    "print(z2C)\n"
   ]
  },
  {
   "cell_type": "markdown",
   "metadata": {},
   "source": [
    "## Завдання 3\n",
    "\n",
    "Pandas (створити dataframe різними способами, провести маніпуляції з даними (head, describe, iloc, loc ...))\n"
   ]
  },
  {
   "cell_type": "code",
   "execution_count": 62,
   "metadata": {},
   "outputs": [
    {
     "name": "stdout",
     "output_type": "stream",
     "text": [
      "---Створення різними способами + head()------------------------------------------------------------\n",
      "створення за допомогою вивантаження з csv:\n",
      "   0  1  2\n",
      "0  8  2  2\n",
      "1  3  3  2\n",
      "2  1  6  4\n",
      "3  3  2  4\n",
      "4  2  5  2\n",
      "створення за допомогою перетворення завантаженного датасету iris із sklearn:\n",
      "   sepal length (cm)  sepal width (cm)  petal length (cm)  petal width (cm)\n",
      "0                5.1               3.5                1.4               0.2\n",
      "1                4.9               3.0                1.4               0.2\n",
      "2                4.7               3.2                1.3               0.2\n",
      "3                4.6               3.1                1.5               0.2\n",
      "4                5.0               3.6                1.4               0.2\n",
      "створення вручну\n",
      "            a      b      c\n",
      "aaa     xxxxx  7.400    999\n",
      "hidden  yyyyy  1.000  44444\n",
      "ccc        zz  0.005     11\n",
      "ddd      wwww  0.000  77777\n",
      "створення серії\n",
      "count    8.00000\n",
      "mean     3.25000\n",
      "std      1.28174\n",
      "min      1.00000\n",
      "25%      2.75000\n",
      "50%      3.50000\n",
      "75%      4.00000\n",
      "max      5.00000\n",
      "dtype: float64\n",
      "----------------------------------------------\n",
      ".describe() було неймовірно важко застосувати через те, що найновіші версії numpy та pandas конфліктували між собою, не даючи можливості застосувати цю функцію. \n",
      " Довелося відкатити версії на pandas=0.24.2 numpy=1.16.5\n",
      "       sepal length (cm)  sepal width (cm)  petal length (cm)  \\\n",
      "count         150.000000        150.000000         150.000000   \n",
      "mean            5.843333          3.057333           3.758000   \n",
      "std             0.828066          0.435866           1.765298   \n",
      "min             4.300000          2.000000           1.000000   \n",
      "25%             5.100000          2.800000           1.600000   \n",
      "50%             5.800000          3.000000           4.350000   \n",
      "75%             6.400000          3.300000           5.100000   \n",
      "max             7.900000          4.400000           6.900000   \n",
      "\n",
      "       petal width (cm)  \n",
      "count        150.000000  \n",
      "mean           1.199333  \n",
      "std            0.762238  \n",
      "min            0.100000  \n",
      "25%            0.300000  \n",
      "50%            1.300000  \n",
      "75%            1.800000  \n",
      "max            2.500000  \n",
      "----------------------------------------------\n",
      "loc - рядок за назвою:\n",
      "a    yyyyy\n",
      "b        1\n",
      "c    44444\n",
      "Name: hidden, dtype: object\n",
      "iloc - рядок за індексом:\n",
      "a    yyyyy\n",
      "b        1\n",
      "c    44444\n",
      "Name: hidden, dtype: object\n",
      "шматочок матриці за умовами:\n",
      "aaa    xxxxx\n",
      "ddd     wwww\n",
      "Name: a, dtype: object\n"
     ]
    }
   ],
   "source": [
    "print(\"---Створення різними способами + head()------------------------------------------------------------\")\n",
    "print(\"створення за допомогою вивантаження з csv:\")\n",
    "z3dataA = pd.read_csv(\"z3data.csv\", sep = \";\", header = None , index_col=False)\n",
    "print(z3dataA.head())\n",
    "\n",
    "print(\"створення за допомогою перетворення завантаженного датасету iris із sklearn:\")\n",
    "z3dataB = pd.DataFrame(raw_iris.data, columns=raw_iris.feature_names)\n",
    "print(z3dataB.head())\n",
    "\n",
    "print(\"створення вручну\")\n",
    "z3dataC=pd.DataFrame({\n",
    "    'a': ['xxxxx', 'yyyyy', 'zz', 'wwww'],\n",
    "    'b': [7.4, 1, 0.005, 0],\n",
    "    'c': [999, 44444, 11, 77777]\n",
    "}, index=['aaa', 'hidden', 'ccc', 'ddd'])\n",
    "print(z3dataC.head())\n",
    "\n",
    "print(\"створення серії\")\n",
    "z3ser=pd.Series([1, 2, 3, 3, 4, 4, 4, 5])\n",
    "print(z3ser.describe())\n",
    "\n",
    "\n",
    "# !pip install --upgrade pandas==0.24.2\n",
    "# !pip install --upgrade numpy==1.16.5\n",
    "# print(np.__version__)\n",
    "# print(pd.__version__)\n",
    "# Cannot interpret '<attribute 'dtype' of 'numpy.generic' objects>' as a data type\n",
    "print(\"----------------------------------------------\")\n",
    "print(\".describe() було неймовірно важко застосувати через те, що найновіші версії numpy та pandas конфліктували між собою, не даючи можливості застосувати цю функцію. \\n Довелося відкатити версії на pandas=0.24.2 numpy=1.16.5\")  \n",
    "print(z3dataB.describe())\n",
    "\n",
    "print(\"----------------------------------------------\")\n",
    "print(\"loc - рядок за назвою:\")\n",
    "print(z3dataC.loc['hidden'])\n",
    "print(\"iloc - рядок за індексом:\")\n",
    "print(z3dataC.iloc[1])\n",
    "print(\"шматочок матриці за умовами:\")\n",
    "print(z3dataC.loc[[\"aaa\", \"ddd\"],'a'] )"
   ]
  },
  {
   "cell_type": "markdown",
   "metadata": {},
   "source": [
    "## Завдання 4, 5\n",
    "\n",
    "Matplotlib (створити набір даних лінійної функції з урахуванням помилок вимірювань, побудувати графік функції та згенерованих даних, обчислити похибку з використанням метрик MAE, MSE). Записати отримані результати у csv файл (формат: X,Y, Y_hat, mAE, mSE)\n",
    "Sklearn (провести вирішення задачі регресії та класифікації)"
   ]
  },
  {
   "cell_type": "code",
   "execution_count": 115,
   "metadata": {},
   "outputs": [
    {
     "name": "stdout",
     "output_type": "stream",
     "text": [
      "MAE: 0.5646\n",
      "MSE: 0.3822\n",
      "     X        Y   Y_hat     mAE     mSE\n",
      "0  0.0   0.9565   0.355  0.0602  0.0362\n",
      "1  1.0   3.3289   2.455  0.0874  0.0764\n",
      "2  2.0   3.6006   4.555  0.0954  0.0911\n",
      "3  3.0   6.5062   6.655  0.0149  0.0022\n",
      "4  4.0   7.9580   8.755  0.0797  0.0635\n",
      "5  5.0  10.3748  10.855  0.0480  0.0231\n",
      "6  6.0  12.3967  12.955  0.0558  0.0312\n",
      "7  7.0  15.3489  15.055  0.0294  0.0086\n",
      "8  8.0  16.8556  17.155  0.0299  0.0090\n",
      "9  9.0  18.6156  19.255  0.0639  0.0409\n"
     ]
    },
    {
     "data": {
      "image/png": "[encoded data removed]",
      "text/plain": [
       "<Figure size 432x288 with 1 Axes>"
      ]
     },
     "metadata": {
      "needs_background": "light"
     },
     "output_type": "display_data"
    }
   ],
   "source": [
    "# y=ax+b\n",
    "z4a=2.1\n",
    "z4b=0.355\n",
    "z4x=np.arange(0.0,10,1)\n",
    "z4size=len(z4x)\n",
    "z4y=np.zeros(z4size)\n",
    "z4y_hat=np.zeros(z4size)\n",
    "z4mae=np.zeros(z4size)\n",
    "z4mse=np.zeros(z4size)\n",
    "z4res_mae_hat=0\n",
    "z4res_mse_hat=0\n",
    "\n",
    "for i in range(z4size):\n",
    "    z4y_hat[i]+=z4a*z4x[i]+z4b\n",
    "    z4y[i]+=z4y_hat[i]+float('{:,.4f}'.format(rd.uniform(-1,1) ))\n",
    "\n",
    "    z4mae[i]=float('{:,.4f}'.format(1.0/z4size*np.abs(z4y_hat[i]-z4y[i]) ))\n",
    "    z4mse[i]=float('{:,.4f}'.format(1.0/z4size*(z4y_hat[i]-z4y[i])*(z4y_hat[i]-z4y[i]) ))\n",
    "    z4res_mae_hat+=z4mae[i]\n",
    "    z4res_mse_hat+=z4mse[i]\n",
    "\n",
    "# print(z4x)\n",
    "# print(z4y)\n",
    "# print(z4y_hat)\n",
    "\n",
    "plt.plot(z4x, z4y, 'ro' , label='набір із помилками')\n",
    "plt.plot(z4x, z4y_hat, color='blue', label=\"справжня функція\")\n",
    "\n",
    "# z4res_mae=metr.mean_absolute_error(z4y_hat, z4y)\n",
    "# z4res_mse=metr.mean_squared_error(z4y_hat, z4y)\n",
    "# print(z4res_mae)\n",
    "# print(z4res_mse)\n",
    "print(\"MAE:\", z4res_mae_hat)\n",
    "print(\"MSE:\", z4res_mse_hat)\n",
    "\n",
    "z4title=np.array((\"X\",\"Y\", \"Y_hat\", \"mAE\", \"mSE\"))\n",
    "z4res=np.hstack((z4x[:,np.newaxis], np.hstack((z4y[:,np.newaxis], np.hstack((z4y_hat[:,np.newaxis], np.hstack((z4mae[:,np.newaxis],  z4mse[:,np.newaxis] )) )) )) ))\n",
    "z4res=pd.DataFrame(data=z4res,columns=z4title)\n",
    "\n",
    "print(z4res)\n",
    "\n",
    "z4res.to_csv('z4res.csv', index=False, sep=';')\n",
    "\n",
    "\n",
    "\n",
    "z5regr=LinearRegression()\n",
    "z5regr.fit(z4x[:,np.newaxis], z4y[:,np.newaxis])\n",
    "z5y_hat=z5regr.predict(z4x[:,np.newaxis])\n",
    "plt.plot(z4x, z5y_hat, color='green', linestyle='-', label='лінійна регресія')\n",
    "\n",
    "plt.title('Лінійна регресія')\n",
    "plt.xlabel('вісь x')\n",
    "plt.ylabel('вісь y')\n",
    "plt.legend()\n",
    "plt.show()\n",
    "\n"
   ]
  },
  {
   "cell_type": "code",
   "execution_count": 129,
   "metadata": {},
   "outputs": [
    {
     "name": "stdout",
     "output_type": "stream",
     "text": [
      "   sepal.length  sepal.width  petal.length  petal.width variety\n",
      "0           5.1          3.5           1.4          0.2  Setosa\n",
      "1           4.9          3.0           1.4          0.2  Setosa\n",
      "2           4.7          3.2           1.3          0.2  Setosa\n",
      "3           4.6          3.1           1.5          0.2  Setosa\n",
      "4           5.0          3.6           1.4          0.2  Setosa\n",
      "\n",
      "Розраховано, що це квітка виду Setosa\n"
     ]
    },
    {
     "data": {
      "image/png": "[encoded data removed]",
      "text/plain": [
       "<Figure size 432x288 with 1 Axes>"
      ]
     },
     "metadata": {
      "needs_background": "light"
     },
     "output_type": "display_data"
    }
   ],
   "source": [
    "\n",
    "z5data=pd.DataFrame(pd.read_csv(r'iris.csv', delimiter = ','))\n",
    "print(z5data.head())\n",
    "\n",
    "z5x = z5data.iloc[:, :-1]\n",
    "z5y = z5data.iloc[:, 4]\n",
    "\n",
    "knn = KNeighborsClassifier(n_neighbors = 7, metric = 'euclidean')\n",
    "knn.fit(z5x, z5y)\n",
    "z5x_pred=[[5, 4, 2, 0.5]]\n",
    "z5predict=knn.predict(z5x_pred)\n",
    "\n",
    "print('\\nРозраховано, що це квітка виду',  \"\".join(z5predict))\n",
    "plt.scatter(z5x.loc[:,'petal.length'], z5x.loc[:,'petal.width'], c='b')\n",
    "plt.scatter(z5x_pred[0][2], z5x_pred[0][3], c='r', s=100)\n",
    "\n",
    "plt.show()"
   ]
  },
  {
   "cell_type": "markdown",
   "metadata": {},
   "source": [
    "## Завдання 6\n",
    "\n",
    "Tensorflow (створити набір даних (розмір за власним рішенням), провести CRUD операції над даними, reshape, інтеграцію з np.array, pd.DataFrame)\n"
   ]
  },
  {
   "cell_type": "code",
   "execution_count": 153,
   "metadata": {},
   "outputs": [
    {
     "name": "stdout",
     "output_type": "stream",
     "text": [
      "<tf.Variable 'Variable:0' shape=(3, 4) dtype=float32, numpy=\n",
      "array([[1.0809774, 3.0402453, 2.3845417, 4.368325 ],\n",
      "       [7.508193 , 3.5722423, 8.217646 , 7.2899885],\n",
      "       [8.1510515, 4.3131046, 3.5559654, 7.9788775]], dtype=float32)>\n",
      "<tf.Variable 'Variable:0' shape=(3, 4) dtype=float32, numpy=\n",
      "array([[ 1.0809774,  3.0402453,  2.3845417,  4.368325 ],\n",
      "       [ 7.508193 , -5.       ,  8.217646 ,  7.2899885],\n",
      "       [ 8.1510515,  4.3131046,  3.5559654,  7.9788775]], dtype=float32)>\n",
      "<tf.Variable 'Variable:0' shape=(3, 4) dtype=float32, numpy=\n",
      "array([[1.0809774, 3.0402453, 2.3845417, 4.368325 ],\n",
      "       [7.508193 ,       nan, 8.217646 , 7.2899885],\n",
      "       [8.1510515, 4.3131046, 3.5559654, 7.9788775]], dtype=float32)>\n",
      "---інше----------------------------------------------\n",
      "tf.Tensor(\n",
      "[[1.0809774 3.0402453 2.3845417 4.368325  7.508193        nan]\n",
      " [8.217646  7.2899885 8.1510515 4.3131046 3.5559654 7.9788775]], shape=(2, 6), dtype=float32) \n",
      "\n",
      "[[1.0809774 3.0402453 2.3845417 4.368325 ]\n",
      " [7.508193        nan 8.217646  7.2899885]\n",
      " [8.1510515 4.3131046 3.5559654 7.9788775]] \n",
      "\n",
      "                                               0  \\\n",
      "0  tf.Tensor(1.0809774, shape=(), dtype=float32)   \n",
      "1   tf.Tensor(7.508193, shape=(), dtype=float32)   \n",
      "2  tf.Tensor(8.1510515, shape=(), dtype=float32)   \n",
      "\n",
      "                                               1  \\\n",
      "0  tf.Tensor(3.0402453, shape=(), dtype=float32)   \n",
      "1        tf.Tensor(nan, shape=(), dtype=float32)   \n",
      "2  tf.Tensor(4.3131046, shape=(), dtype=float32)   \n",
      "\n",
      "                                               2  \\\n",
      "0  tf.Tensor(2.3845417, shape=(), dtype=float32)   \n",
      "1   tf.Tensor(8.217646, shape=(), dtype=float32)   \n",
      "2  tf.Tensor(3.5559654, shape=(), dtype=float32)   \n",
      "\n",
      "                                               3  \n",
      "0   tf.Tensor(4.368325, shape=(), dtype=float32)  \n",
      "1  tf.Tensor(7.2899885, shape=(), dtype=float32)  \n",
      "2  tf.Tensor(7.9788775, shape=(), dtype=float32)  \n"
     ]
    }
   ],
   "source": [
    "z6A=tf.Variable(tf.random.uniform(shape=(3,4),minval=0,maxval=9, seed=seed))\n",
    "print(z6A)\n",
    "z6A[1,1].assign(-5)\n",
    "print(z6A)\n",
    "z6A[1,1].assign(np.nan)\n",
    "print(z6A)\n",
    "\n",
    "print(\"---інше----------------------------------------------\")\n",
    "z6A=tf.reshape(z6A, (2,6))\n",
    "print(z6A, \"\\n\")\n",
    "z6A=tf.reshape(z6A, (3,4))\n",
    "z6Anp=z6A.numpy()\n",
    "print(z6Anp, \"\\n\")\n",
    "z6Apd=pd.DataFrame(z6A)\n",
    "print(z6Apd)\n"
   ]
  },
  {
   "cell_type": "markdown",
   "metadata": {},
   "source": [
    "## Завдання 7, 8\n",
    "\n",
    "Відповіді оформити .ipynb документами за кожним з попередніх пунктів\n",
    "Викласти у зазначений репозіторій GitHub в окремій папці з назвою Lab1 де мають бути .ipynb файл та необхідні файли з даними"
   ]
  },
  {
   "cell_type": "code",
   "execution_count": null,
   "metadata": {
    "scrolled": false
   },
   "outputs": [],
   "source": []
  },
  {
   "cell_type": "code",
   "execution_count": null,
   "metadata": {},
   "outputs": [],
   "source": []
  },
  {
   "cell_type": "code",
   "execution_count": null,
   "metadata": {},
   "outputs": [],
   "source": []
  },
  {
   "cell_type": "code",
   "execution_count": null,
   "metadata": {},
   "outputs": [],
   "source": []
  },
  {
   "cell_type": "code",
   "execution_count": null,
   "metadata": {},
   "outputs": [],
   "source": []
  },
  {
   "cell_type": "code",
   "execution_count": null,
   "metadata": {},
   "outputs": [],
   "source": []
  },
  {
   "cell_type": "code",
   "execution_count": null,
   "metadata": {},
   "outputs": [],
   "source": []
  },
  {
   "cell_type": "code",
   "execution_count": null,
   "metadata": {
    "scrolled": false
   },
   "outputs": [],
   "source": []
  },
  {
   "cell_type": "code",
   "execution_count": null,
   "metadata": {},
   "outputs": [],
   "source": []
  },
  {
   "cell_type": "code",
   "execution_count": null,
   "metadata": {},
   "outputs": [],
   "source": []
  },
  {
   "cell_type": "code",
   "execution_count": null,
   "metadata": {
    "scrolled": false
   },
   "outputs": [],
   "source": []
  },
  {
   "cell_type": "code",
   "execution_count": null,
   "metadata": {},
   "outputs": [],
   "source": []
  },
  {
   "cell_type": "code",
   "execution_count": null,
   "metadata": {},
   "outputs": [],
   "source": []
  },
  {
   "cell_type": "code",
   "execution_count": null,
   "metadata": {},
   "outputs": [],
   "source": []
  },
  {
   "cell_type": "code",
   "execution_count": null,
   "metadata": {},
   "outputs": [],
   "source": []
  }
 ],
 "metadata": {
  "celltoolbar": "Slideshow",
  "interpreter": {
   "hash": "4ba962433ce634cde499a2def155867a3065a4841db75053b162653b9c20e813"
  },
  "kernelspec": {
   "display_name": "Python 3.7.4 64-bit ('base': conda)",
   "name": "python3"
  },
  "language_info": {
   "codemirror_mode": {
    "name": "ipython",
    "version": 3
   },
   "file_extension": ".py",
   "mimetype": "text/x-python",
   "name": "python",
   "nbconvert_exporter": "python",
   "pygments_lexer": "ipython3",
   "version": "3.7.4"
  }
 },
 "nbformat": 4,
 "nbformat_minor": 2
}
