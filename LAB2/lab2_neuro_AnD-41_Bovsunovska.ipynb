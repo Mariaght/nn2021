{
 "cells": [
  {
   "cell_type": "markdown",
   "metadata": {},
   "source": [
    "# Лабораторна робота 2\n",
    "\n",
    "## Виконано студенкою групи АнД-41\n",
    "## Бовсуновською Марією"
   ]
  },
  {
   "cell_type": "markdown",
   "metadata": {},
   "source": [
    "\n",
    "## Завдання\n",
    "1. Поглиблено вивчити функцію make_regression.\n",
    "2. Згенерувати набір даних за допомогою означеної функції, з використанням якнайбільшої кількості параметрів.\n",
    "3. Розмірність набору даних прийняти у вигляді (100 000х(30-n)), де n - номер за списком.\n",
    "4. Здійснити моделювання згенерованого набору даних та візуалізацію результатів.\n",
    "5. Результати оформити у вигляді файлів:\n",
    "\n",
    "- набір даних у форматі .csv\n",
    "- код для формування набору даних у форматі .ipynb\n",
    "- код для моделювання та візуалізації у форматі .ipynb\n",
    "\n",
    "6. Результати викласти у репозиторії GitHub (папка Lab2).\n",
    "7. Підготуватися до захисту лабораторрної роботи (пояснення коду, відповіді на запитання за темою)"
   ]
  },
  {
   "cell_type": "markdown",
   "metadata": {},
   "source": []
  },
  {
   "cell_type": "code",
   "execution_count": 5,
   "metadata": {},
   "outputs": [],
   "source": [
    "import numpy as np\n",
    "import random as rd\n",
    "np.random.seed(0)\n",
    "rd.seed(0)\n",
    "\n",
    "# from sklearn.model_selection import train_test_split\n",
    "from sklearn import linear_model, datasets\n",
    "\n",
    "import matplotlib.pyplot as plt\n",
    "import matplotlib as mpl\n",
    "%matplotlib inline\n",
    "\n",
    "import pandas as pd\n"
   ]
  },
  {
   "cell_type": "code",
   "execution_count": 6,
   "metadata": {},
   "outputs": [],
   "source": [
    "variant=3\n",
    "n_sample=100000*(30-variant)\n",
    "bias=0\n",
    "seed=0\n",
    "\n",
    "x, y, coef = datasets.make_regression(\n",
    "    n_samples=n_sample,\n",
    "    n_features=1,\n",
    "    n_informative=1,\n",
    "    # n_targets=1,\n",
    "    bias=bias,\n",
    "    # effective_rank=None,\n",
    "    # tail_strength=0.5,\n",
    "    noise=10,\n",
    "    # shuffle=True,\n",
    "    coef=True,\n",
    "    random_state=seed,\n",
    ")\n",
    "\n",
    "# Parameters sklearn.datasets.make_regression\n",
    "# n_samples int, default=100\n",
    "# The number of samples.\n",
    "\n",
    "# n_features int, default=100\n",
    "# The number of features.\n",
    "\n",
    "# n_informative int, default=10\n",
    "# The number of informative features, i.e., the number of features used to build the linear model used to generate the output.\n",
    "\n",
    "# n_targets int, default=1\n",
    "# The number of regression targets, i.e., the dimension of the y output vector associated with a sample. By default, the output is a scalar.\n",
    "\n",
    "# bias float, default=0.0\n",
    "# зміщення в базовій лінійній моделі.\n",
    "\n",
    "# effective_rank int, default=None\n",
    "# if not None:\n",
    "# The approximate number of singular vectors required to explain most of the input data by linear combinations. \n",
    "# Using this kind of singular spectrum in the input allows the generator to reproduce the correlations often observed in practice.\n",
    "# if None:\n",
    "# Вхідний набір добре обумовлений, центрований і гауссовий з одиницею дисперсії.\n",
    "\n",
    "# tail_strength float, default=0.5\n",
    "# Відносна важливість товстого шумового хвоста профілю сингулярних значень. When a float, it should be between 0 and 1.\n",
    "# The relative importance of the fat noisy tail of the singular values profile if effective_rank !!!!!is not None. When a float, it should be between 0 and 1.\n",
    "\n",
    "# noise float, default=0.0\n",
    "# The standard deviation of the gaussian noise applied to the output.\n",
    "\n",
    "# shuffle bool, default=True\n",
    "# Shuffle the samples and the features.\n",
    "\n",
    "# coef bool, default=False\n",
    "# If True, the coefficients of the underlying linear model are returned.\n",
    "\n",
    "# random_state int, RandomState instance or None, default=None\n",
    "# Визначає генерацію випадкових чисел для створення набору даних. Pass an int for reproducible output across multiple function calls.\n",
    "\n",
    "\n",
    "\n"
   ]
  },
  {
   "cell_type": "code",
   "execution_count": 16,
   "metadata": {},
   "outputs": [
    {
     "name": "stdout",
     "output_type": "stream",
     "text": [
      "Коефіцієнти лінійної моделі:\n",
      "базові  лінрег\n",
      "48.15168266323545   [48.14673643]\n"
     ]
    }
   ],
   "source": [
    "\n",
    "# test\n",
    "# print(x)\n",
    "# print(y)\n",
    "# print(x.size)\n",
    "# print(y.size)\n",
    "\n",
    "# model\n",
    "linreg=linear_model.LinearRegression()\n",
    "linreg.fit(x, y)\n",
    "print(\"Коефіцієнти лінійної моделі:\")\n",
    "print(\"базові \",\"лінрег\")\n",
    "print(coef, \" \", linreg.coef_)\n",
    "basic_y=[[i*coef]for i in np.arange(-5,6,1) ]\n",
    "linreg_y=[[i*linreg.coef_[0]]for i in np.arange(-5,6,1) ]\n",
    "# print(basic_y)\n",
    "# print(linreg_y)\n",
    "\n",
    "#in file\n",
    "titles=np.array((\"X\",\"Y\"))\n",
    "data=np.hstack((x, y[:,np.newaxis]))\n",
    "df=pd.DataFrame(data=data,columns=titles)\n",
    "df.to_csv('lr2_data.csv', index=False, sep=';')"
   ]
  },
  {
   "cell_type": "code",
   "execution_count": 15,
   "metadata": {},
   "outputs": [
    {
     "data": {
      "image/png": "[encoded data removed]",
      "text/plain": [
       "<Figure size 432x288 with 1 Axes>"
      ]
     },
     "metadata": {
      "needs_background": "light"
     },
     "output_type": "display_data"
    }
   ],
   "source": [
    "\n",
    "\n",
    "plt.scatter(x, y, color=\"yellowgreen\", marker=\".\", label=\"згенеровані дані\")\n",
    "plt.plot(np.arange(-5,6,1), basic_y, color='darkgreen', linestyle='-', label='базова регресія')\n",
    "plt.plot(np.arange(-5,6,1), linreg_y, color='purple', linestyle='-', label='лінійна регресія')\n",
    "plt.xlabel('вісь x')\n",
    "plt.ylabel('вісь y')\n",
    "plt.legend()\n",
    "plt.plot()\n",
    "plt.show()"
   ]
  },
  {
   "cell_type": "code",
   "execution_count": null,
   "metadata": {},
   "outputs": [],
   "source": []
  }
 ],
 "metadata": {
  "interpreter": {
   "hash": "4ba962433ce634cde499a2def155867a3065a4841db75053b162653b9c20e813"
  },
  "kernelspec": {
   "display_name": "Python 3.7.4 64-bit ('base': conda)",
   "name": "python3"
  },
  "language_info": {
   "codemirror_mode": {
    "name": "ipython",
    "version": 3
   },
   "file_extension": ".py",
   "mimetype": "text/x-python",
   "name": "python",
   "nbconvert_exporter": "python",
   "pygments_lexer": "ipython3",
   "version": "3.7.4"
  },
  "orig_nbformat": 4
 },
 "nbformat": 4,
 "nbformat_minor": 2
}
