{
 "cells": [
  {
   "cell_type": "markdown",
   "metadata": {},
   "source": [
    "# Лабораторна робота 3\n",
    "\n",
    "## Виконано студенкою групи АнД-41\n",
    "## Бовсуновською Марією"
   ]
  },
  {
   "cell_type": "markdown",
   "metadata": {},
   "source": [
    "## Завдання\n",
    "1. На основі документу вирішити завдання класифікації для набору даних Fashion MNIST.\n",
    "2. Для моделювання використати 3 класи індекси яких взяти відповідно до номеру у списку групи у наведеній нижче таблиці.\n",
    "3. Моделювання провести із використанням нейронної мережі (Flatten & Dense layers).\n",
    "4. Здійснити вибір оптимального кроку градієнтного алгоритму (learning_rate), а також побудову Confusion Matrix.\n",
    "5. Результати оформити у вигляді файлу з кодом для моделювання та візуалізації у форматі .ipynb\n",
    "6. Результати викласти у репозиторії GitHub (папка Lab3).\n",
    "7. Підготуватися до захисту лабораторрної роботи (пояснення коду, відповіді на запитання за темою)\n",
    "\n",
    "Варіант значень індексів класів для виконання лабораторної роботи №3:\n",
    "\n",
    "Варіант 3 : (2,5,9)\n",
    "\n",
    "All labels:\n",
    "0 T-shirt/top 1 Trouser 2 Pullover 3 Dress 4 Coat 5 Sandal 6 Shirt 7 Sneaker 8 Bag 9 Ankle boot\n",
    "\n",
    "Мій варіант індексів:\n",
    "2 Pullover\n",
    "5 Sandal\n",
    "9 Ankle boot\n",
    "\n",
    "\n",
    "# Запитати навіщо потрібний Flatten-шар, що він дає, що це за зглажування і на що  воно впливає"
   ]
  },
  {
   "cell_type": "code",
   "execution_count": 279,
   "metadata": {},
   "outputs": [],
   "source": [
    "import numpy as np\n",
    "import random as rd\n",
    "import tensorflow as tf\n",
    "\n",
    "np.random.seed(0)\n",
    "rd.seed(0)\n",
    "tf.random.set_seed(0)\n",
    "seed=0\n",
    "\n",
    "import pandas as pd\n",
    "from keras.utils import np_utils\n",
    "from pandas_ml import ConfusionMatrix\n",
    "\n",
    "\n",
    "import matplotlib.pyplot as plt\n",
    "import matplotlib as mpl\n",
    "%matplotlib inline\n",
    "\n"
   ]
  },
  {
   "cell_type": "code",
   "execution_count": 280,
   "metadata": {},
   "outputs": [
    {
     "name": "stdout",
     "output_type": "stream",
     "text": [
      "downloading Fashion MNIST dataset\n",
      "train data downloaded\n",
      "test data downloaded\n"
     ]
    }
   ],
   "source": [
    "print(\"downloading Fashion MNIST dataset\")\n",
    "tr_data=pd.read_csv(\"fashion-mnist_train.csv\", sep = \",\")\n",
    "print(\"train data downloaded\")\n",
    "ts_data=pd.read_csv(\"fashion-mnist_test.csv\", sep = \",\")\n",
    "print(\"test data downloaded\")\n"
   ]
  },
  {
   "cell_type": "code",
   "execution_count": 281,
   "metadata": {},
   "outputs": [],
   "source": [
    "variant=[2,5,9]\n",
    "\n",
    "tr_df=tr_data.loc[tr_data['label'].isin(variant)]\n",
    "ts_df=ts_data.loc[ts_data['label'].isin(variant)]\n"
   ]
  },
  {
   "cell_type": "code",
   "execution_count": 282,
   "metadata": {},
   "outputs": [
    {
     "name": "stdout",
     "output_type": "stream",
     "text": [
      "    label  pixel1  pixel2  pixel3  pixel4  pixel5  pixel6  pixel7  pixel8  \\\n",
      "0       2       0       0       0       0       0       0       0       0   \n",
      "1       9       0       0       0       0       0       0       0       0   \n",
      "7       5       0       0       0       0       0       0       0       0   \n",
      "12      9       0       0       0       0       0       0       0       0   \n",
      "14      2       0       0       0       0       1       1       0       0   \n",
      "\n",
      "    pixel9  ...  pixel775  pixel776  pixel777  pixel778  pixel779  pixel780  \\\n",
      "0        0  ...         0         0         0         0         0         0   \n",
      "1        0  ...         0         0         0         0         0         0   \n",
      "7        0  ...         0         0         0         0         0         0   \n",
      "12       0  ...         0         0         0         0         0         0   \n",
      "14       0  ...         0         0       118       190       162        82   \n",
      "\n",
      "    pixel781  pixel782  pixel783  pixel784  \n",
      "0          0         0         0         0  \n",
      "1          0         0         0         0  \n",
      "7          0         0         0         0  \n",
      "12         0         0         0         0  \n",
      "14         0         0         0         0  \n",
      "\n",
      "[5 rows x 785 columns]\n",
      "    label  pixel1  pixel2  pixel3  pixel4  pixel5  pixel6  pixel7  pixel8  \\\n",
      "2       2       0       0       0       0       0       0      14      53   \n",
      "3       2       0       0       0       0       0       0       0       0   \n",
      "5       2       0       0       0       0       0      44     105      44   \n",
      "8       5       0       0       0       0       0       0       0       0   \n",
      "15      5       0       0       0       0       0       0       0       0   \n",
      "\n",
      "    pixel9  ...  pixel775  pixel776  pixel777  pixel778  pixel779  pixel780  \\\n",
      "2       99  ...         0         0         0         0        63        53   \n",
      "3        0  ...       137       126       140         0       133       224   \n",
      "5       10  ...       105        64        30         0         0         0   \n",
      "8        0  ...         0         0         0         0         0         0   \n",
      "15       0  ...         0         0         0         0         0         0   \n",
      "\n",
      "    pixel781  pixel782  pixel783  pixel784  \n",
      "2         31         0         0         0  \n",
      "3        222        56         0         0  \n",
      "5          0         0         0         0  \n",
      "8          0         0         0         0  \n",
      "15         0         0         0         0  \n",
      "\n",
      "[5 rows x 785 columns]\n",
      "(18000, 785)\n",
      "(3000, 785)\n"
     ]
    }
   ],
   "source": [
    "print(tr_df.head())\n",
    "print(ts_df.head())\n",
    "print(tr_df.shape)\n",
    "print(ts_df.shape)\n",
    "\n"
   ]
  },
  {
   "cell_type": "code",
   "execution_count": 291,
   "metadata": {},
   "outputs": [
    {
     "name": "stdout",
     "output_type": "stream",
     "text": [
      "9    6000\n",
      "5    6000\n",
      "2    6000\n",
      "Name: label, dtype: int64\n",
      "9    1000\n",
      "5    1000\n",
      "2    1000\n",
      "Name: label, dtype: int64\n",
      "(18000, 784)\n",
      "(3000, 784)\n",
      "(18000, 3)\n",
      "(3000, 3)\n"
     ]
    }
   ],
   "source": [
    "print(tr_df.label.value_counts())\n",
    "print(ts_df.label.value_counts())\n",
    "\n",
    "tr_x=tr_df.drop(columns='label')/255.\n",
    "ts_x=ts_df.drop(columns='label')/255.\n",
    "tr_y=tr_df['label']\n",
    "ts_y=ts_df['label']\n",
    "\n",
    "translated_labels=[0,1,2]\n",
    "for i in np.arange(len(variant)):\n",
    "    tr_y=tr_y.replace(variant[i], translated_labels[i])\n",
    "    ts_y=ts_y.replace(variant[i], translated_labels[i])\n",
    "\n",
    "uniques, ids = np.unique(ts_y, return_inverse=True)\n",
    "\n",
    "\n",
    "tr_y=np_utils.to_categorical(y=tr_y, num_classes=len(variant))\n",
    "ts_y=np_utils.to_categorical(y=ts_y, num_classes=len(variant))\n",
    "\n",
    "\n",
    "print(tr_x.shape)\n",
    "print(ts_x.shape)\n",
    "print(tr_y.shape)\n",
    "print(ts_y.shape)\n",
    "\n",
    "\n",
    "\n",
    "\n",
    "\n"
   ]
  },
  {
   "cell_type": "code",
   "execution_count": 293,
   "metadata": {},
   "outputs": [],
   "source": [
    "epochs=100\n",
    "\n",
    "model_1=tf.keras.Sequential([ \n",
    "    tf.keras.layers.Dense(100, activation='relu'),\n",
    "    tf.keras.layers.Dense(100, activation='relu'),\n",
    "    tf.keras.layers.Dense(3, activation='softmax'),\n",
    "])\n",
    "\n",
    "model_1.compile(\n",
    "    loss='categorical_crossentropy', \n",
    "    optimizer=tf.keras.optimizers.SGD(), \n",
    "    metrics=['accuracy']\n",
    ")\n",
    "\n",
    "lr_scheduler=tf.keras.callbacks.LearningRateScheduler(lambda epoch: 1e-4*10**(epoch/20))\n"
   ]
  },
  {
   "cell_type": "code",
   "execution_count": 294,
   "metadata": {},
   "outputs": [
    {
     "name": "stdout",
     "output_type": "stream",
     "text": [
      "563/563 [==============================] - 7s 11ms/step - loss: 2.9637 - accuracy: 0.3334\n"
     ]
    },
    {
     "data": {
      "text/plain": [
       "[2.9637043476104736, 0.33338889479637146]"
      ]
     },
     "execution_count": 294,
     "metadata": {},
     "output_type": "execute_result"
    }
   ],
   "source": [
    "history_1=model_1.fit(tr_x,tr_y,\n",
    "                epochs=epochs, \n",
    "                verbose=0, \n",
    "                callbacks=[lr_scheduler]\n",
    "                )\n",
    "\n",
    "model_1.evaluate(tr_x,tr_y)"
   ]
  },
  {
   "cell_type": "code",
   "execution_count": 295,
   "metadata": {},
   "outputs": [
    {
     "data": {
      "text/plain": [
       "<matplotlib.axes._subplots.AxesSubplot at 0x23853faf908>"
      ]
     },
     "execution_count": 295,
     "metadata": {},
     "output_type": "execute_result"
    },
    {
     "data": {
      "image/png": "[encoded data removed]",
      "text/plain": [
       "<Figure size 432x288 with 1 Axes>"
      ]
     },
     "metadata": {
      "needs_background": "light"
     },
     "output_type": "display_data"
    }
   ],
   "source": [
    "pd.DataFrame(history_1.history).plot()"
   ]
  },
  {
   "cell_type": "code",
   "execution_count": 296,
   "metadata": {},
   "outputs": [
    {
     "name": "stdout",
     "output_type": "stream",
     "text": [
      "best learning rate:  0.08912509381337459\n",
      "lowest loss:  0.010172894224524498\n"
     ]
    },
    {
     "data": {
      "image/png": "[encoded data removed]",
      "text/plain": [
       "<Figure size 720x504 with 1 Axes>"
      ]
     },
     "metadata": {
      "needs_background": "light"
     },
     "output_type": "display_data"
    }
   ],
   "source": [
    "lrs = 1e-4 * (10 ** (np.arange(epochs)/20))\n",
    "plt.figure(figsize=(10, 7))\n",
    "plt.semilogx(lrs, history_1.history[\"loss\"]) # we want the x-axis (learning rate) to be log scale, щоб прибрати степінь, яку задавали раніше\n",
    "plt.xlabel(\"Learning Rate\")\n",
    "plt.ylabel(\"Loss\")\n",
    "plt.title(\"Learning rate vs. loss\")\n",
    "blr=lrs[history_1.history[\"loss\"].index(min(history_1.history[\"loss\"]))]\n",
    "print(\"best learning rate: \", blr)\n",
    "print(\"lowest loss: \",history_1.history[\"loss\"][history_1.history[\"loss\"].index(min(history_1.history[\"loss\"]))] )"
   ]
  },
  {
   "cell_type": "code",
   "execution_count": 297,
   "metadata": {},
   "outputs": [
    {
     "name": "stdout",
     "output_type": "stream",
     "text": [
      "563/563 [==============================] - 2s 3ms/step - loss: 3.1018e-05 - accuracy: 1.0000\n"
     ]
    },
    {
     "data": {
      "text/plain": [
       "[3.1018254958326e-05, 1.0]"
      ]
     },
     "execution_count": 297,
     "metadata": {},
     "output_type": "execute_result"
    }
   ],
   "source": [
    "model_2=tf.keras.Sequential([ \n",
    "    tf.keras.layers.Dense(100, activation='relu'),\n",
    "    tf.keras.layers.Dense(100, activation='relu'),\n",
    "    tf.keras.layers.Dense(3, activation='softmax'),\n",
    "])\n",
    "\n",
    "model_2.compile(\n",
    "    loss='categorical_crossentropy', \n",
    "    optimizer=tf.keras.optimizers.SGD(learning_rate=blr), \n",
    "    metrics=['accuracy']\n",
    ")\n",
    "history_2=model_2.fit(tr_x,tr_y,\n",
    "                epochs=epochs, \n",
    "                verbose=0, \n",
    "                )\n",
    "\n",
    "model_2.evaluate(tr_x,tr_y)"
   ]
  },
  {
   "cell_type": "code",
   "execution_count": 298,
   "metadata": {},
   "outputs": [
    {
     "name": "stdout",
     "output_type": "stream",
     "text": [
      "(3000, 3)\n",
      "[0 0 0 ... 1 2 2]\n",
      "[0 0 0 ... 1 2 2]\n"
     ]
    }
   ],
   "source": [
    "pr_y=model_2.predict(ts_x)\n",
    "print(pr_y.shape)\n",
    "\n",
    "pr_y=np.argmax(pr_y,axis=1 )\n",
    "print(pr_y)\n",
    "\n",
    "ts_y=np.argmax(ts_y,axis=1 )\n",
    "print(ts_y)\n",
    "\n",
    "\n",
    "\n"
   ]
  },
  {
   "cell_type": "code",
   "execution_count": 299,
   "metadata": {},
   "outputs": [
    {
     "name": "stderr",
     "output_type": "stream",
     "text": [
      "C:\\Users\\1\\AppData\\Roaming\\Python\\Python37\\site-packages\\pandas_ml\\confusion_matrix\\stats.py:60: FutureWarning: supplying multiple axes to axis is deprecated and will be removed in a future version.\n",
      "  num = df[df > 1].dropna(axis=[0, 1], thresh=1).applymap(lambda n: choose(n, 2)).sum().sum() - np.float64(nis2 * njs2) / n2\n",
      "C:\\Users\\1\\AppData\\Roaming\\Python\\Python37\\site-packages\\pandas_ml\\confusion_matrix\\bcm.py:344: RuntimeWarning: divide by zero encountered in double_scalars\n",
      "  return(np.float64(self.LRP) / self.LRN)\n"
     ]
    },
    {
     "name": "stdout",
     "output_type": "stream",
     "text": [
      "Confusion Matrix:\n",
      "\n",
      "Predicted     0    1     2  __all__\n",
      "Actual                             \n",
      "0          1000    0     0     1000\n",
      "1             2  977    21     1000\n",
      "2             0    8   992     1000\n",
      "__all__    1002  985  1013     3000\n",
      "\n",
      "\n",
      "Overall Statistics:\n",
      "\n",
      "Accuracy: 0.9896666666666667\n",
      "95% CI: (0.9853644745738875, 0.9929685048714887)\n",
      "No Information Rate: ToDo\n",
      "P-Value [Acc > NIR]: 0.0\n",
      "Kappa: 0.9845\n",
      "Mcnemar's Test P-Value: ToDo\n",
      "\n",
      "\n",
      "Class Statistics:\n",
      "\n",
      "Classes                                         0           1           2\n",
      "Population                                   3000        3000        3000\n",
      "P: Condition positive                        1000        1000        1000\n",
      "N: Condition negative                        2000        2000        2000\n",
      "Test outcome positive                        1002         985        1013\n",
      "Test outcome negative                        1998        2015        1987\n",
      "TP: True Positive                            1000         977         992\n",
      "TN: True Negative                            1998        1992        1979\n",
      "FP: False Positive                              2           8          21\n",
      "FN: False Negative                              0          23           8\n",
      "TPR: (Sensitivity, hit rate, recall)            1       0.977       0.992\n",
      "TNR=SPC: (Specificity)                      0.999       0.996      0.9895\n",
      "PPV: Pos Pred Value (Precision)          0.998004    0.991878    0.979269\n",
      "NPV: Neg Pred Value                             1    0.988586    0.995974\n",
      "FPR: False-out                              0.001       0.004      0.0105\n",
      "FDR: False Discovery Rate              0.00199601  0.00812183   0.0207305\n",
      "FNR: Miss Rate                                  0       0.023       0.008\n",
      "ACC: Accuracy                            0.999333    0.989667    0.990333\n",
      "F1 score                                 0.999001    0.984383    0.985594\n",
      "MCC: Matthews correlation coefficient    0.998502    0.976725    0.978367\n",
      "Informedness                                0.999       0.973      0.9815\n",
      "Markedness                               0.998004    0.980464    0.975243\n",
      "Prevalence                               0.333333    0.333333    0.333333\n",
      "LR+: Positive likelihood ratio               1000      244.25     94.4762\n",
      "LR-: Negative likelihood ratio                  0   0.0230924  0.00808489\n",
      "DOR: Diagnostic odds ratio                    inf     10577.1     11685.5\n",
      "FOR: False omission rate                        0   0.0114144  0.00402617\n"
     ]
    }
   ],
   "source": [
    "\n",
    "data_for_conf = {'y_Actual':    ts_y,\n",
    "            'y_Predicted': pr_y\n",
    "            }\n",
    "df_for_conf = pd.DataFrame(data_for_conf, columns=['y_Actual','y_Predicted'])\n",
    "\n",
    "Confusion_Matrix = ConfusionMatrix(df_for_conf['y_Actual'], df_for_conf['y_Predicted'])\n",
    "Confusion_Matrix.print_stats()\n"
   ]
  },
  {
   "cell_type": "code",
   "execution_count": null,
   "metadata": {},
   "outputs": [],
   "source": []
  },
  {
   "cell_type": "code",
   "execution_count": null,
   "metadata": {},
   "outputs": [],
   "source": []
  },
  {
   "cell_type": "code",
   "execution_count": null,
   "metadata": {},
   "outputs": [],
   "source": []
  }
 ],
 "metadata": {
  "interpreter": {
   "hash": "4ba962433ce634cde499a2def155867a3065a4841db75053b162653b9c20e813"
  },
  "kernelspec": {
   "display_name": "Python 3.7.4 64-bit ('base': conda)",
   "name": "python3"
  },
  "language_info": {
   "codemirror_mode": {
    "name": "ipython",
    "version": 3
   },
   "file_extension": ".py",
   "mimetype": "text/x-python",
   "name": "python",
   "nbconvert_exporter": "python",
   "pygments_lexer": "ipython3",
   "version": "3.7.4"
  },
  "orig_nbformat": 4
 },
 "nbformat": 4,
 "nbformat_minor": 2
}
